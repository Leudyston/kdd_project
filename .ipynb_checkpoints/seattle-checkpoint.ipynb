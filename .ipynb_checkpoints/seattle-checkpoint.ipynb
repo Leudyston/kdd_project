{
 "cells": [
  {
   "cell_type": "markdown",
   "metadata": {},
   "source": [
    "# Projeto Final - KDD - Uni7\n",
    "\n",
    "## Equipe\n",
    "\n",
    "* Igor \n",
    "* Dantas\n",
    "* Pedro\n",
    "* Mateus"
   ]
  },
  {
   "cell_type": "code",
   "execution_count": 1,
   "metadata": {},
   "outputs": [],
   "source": [
    "from sklearn.preprocessing import MinMaxScaler\n",
    "from sklearn.preprocessing import LabelEncoder\n",
    "from sklearn.pipeline import Pipeline\n",
    "import matplotlib.pyplot as plt\n",
    "import seaborn as sns\n",
    "import pandas as pd\n",
    "import numpy as np\n",
    "\n",
    "%matplotlib inline\n",
    "sns.set_style(style = 'darkgrid')"
   ]
  },
  {
   "cell_type": "markdown",
   "metadata": {},
   "source": [
    "### 1. Importe o data set train_call_data e considere a variável alvo 'Event Clearance Description'(0,5 pontos)"
   ]
  },
  {
   "cell_type": "code",
   "execution_count": 2,
   "metadata": {},
   "outputs": [],
   "source": [
    "trainset = pd.read_csv('input/train_call_data_v1.csv')"
   ]
  },
  {
   "cell_type": "code",
   "execution_count": 3,
   "metadata": {},
   "outputs": [],
   "source": [
    "testset = pd.read_csv('input/test_call_data.csv')"
   ]
  },
  {
   "cell_type": "code",
   "execution_count": 4,
   "metadata": {},
   "outputs": [
    {
     "data": {
      "text/html": [
       "<div>\n",
       "<style scoped>\n",
       "    .dataframe tbody tr th:only-of-type {\n",
       "        vertical-align: middle;\n",
       "    }\n",
       "\n",
       "    .dataframe tbody tr th {\n",
       "        vertical-align: top;\n",
       "    }\n",
       "\n",
       "    .dataframe thead th {\n",
       "        text-align: right;\n",
       "    }\n",
       "</style>\n",
       "<table border=\"1\" class=\"dataframe\">\n",
       "  <thead>\n",
       "    <tr style=\"text-align: right;\">\n",
       "      <th></th>\n",
       "      <th>Unnamed: 0</th>\n",
       "      <th>CAD Event Number</th>\n",
       "      <th>Event Clearance Description</th>\n",
       "      <th>Call Type</th>\n",
       "      <th>Priority</th>\n",
       "      <th>Initial Call Type</th>\n",
       "      <th>Final Call Type</th>\n",
       "      <th>Original Time Queued</th>\n",
       "      <th>Arrived Time</th>\n",
       "      <th>Precinct</th>\n",
       "      <th>Sector</th>\n",
       "      <th>Beat</th>\n",
       "    </tr>\n",
       "  </thead>\n",
       "  <tbody>\n",
       "    <tr>\n",
       "      <th>0</th>\n",
       "      <td>450000</td>\n",
       "      <td>2010000276308</td>\n",
       "      <td>REPORT WRITTEN (NO ARREST)</td>\n",
       "      <td>911</td>\n",
       "      <td>2</td>\n",
       "      <td>PROPERTY - DAMAGE</td>\n",
       "      <td>--PROPERTY DEST (DAMG)</td>\n",
       "      <td>08/09/2010 03:48:41 AM</td>\n",
       "      <td>Aug  9 2010 03:52:17:000AM</td>\n",
       "      <td>NORTH</td>\n",
       "      <td>NORA</td>\n",
       "      <td>N1</td>\n",
       "    </tr>\n",
       "    <tr>\n",
       "      <th>1</th>\n",
       "      <td>450003</td>\n",
       "      <td>2010000276311</td>\n",
       "      <td>UNABLE TO LOCATE INCIDENT OR COMPLAINANT</td>\n",
       "      <td>TELEPHONE OTHER, NOT 911</td>\n",
       "      <td>4</td>\n",
       "      <td>NOISE - DIST, GENERAL (CONST, RESID, BALL PLAY)</td>\n",
       "      <td>--DISTURBANCE - NOISE</td>\n",
       "      <td>08/09/2010 03:54:00 AM</td>\n",
       "      <td>Aug  9 2010 07:21:54:000AM</td>\n",
       "      <td>EAST</td>\n",
       "      <td>GEORGE</td>\n",
       "      <td>G1</td>\n",
       "    </tr>\n",
       "  </tbody>\n",
       "</table>\n",
       "</div>"
      ],
      "text/plain": [
       "   Unnamed: 0  CAD Event Number               Event Clearance Description  \\\n",
       "0      450000     2010000276308                REPORT WRITTEN (NO ARREST)   \n",
       "1      450003     2010000276311  UNABLE TO LOCATE INCIDENT OR COMPLAINANT   \n",
       "\n",
       "                  Call Type  Priority  \\\n",
       "0                       911         2   \n",
       "1  TELEPHONE OTHER, NOT 911         4   \n",
       "\n",
       "                                 Initial Call Type         Final Call Type  \\\n",
       "0                                PROPERTY - DAMAGE  --PROPERTY DEST (DAMG)   \n",
       "1  NOISE - DIST, GENERAL (CONST, RESID, BALL PLAY)   --DISTURBANCE - NOISE   \n",
       "\n",
       "     Original Time Queued                Arrived Time Precinct  Sector Beat  \n",
       "0  08/09/2010 03:48:41 AM  Aug  9 2010 03:52:17:000AM    NORTH    NORA   N1  \n",
       "1  08/09/2010 03:54:00 AM  Aug  9 2010 07:21:54:000AM     EAST  GEORGE   G1  "
      ]
     },
     "execution_count": 4,
     "metadata": {},
     "output_type": "execute_result"
    }
   ],
   "source": [
    "testset.head(2)"
   ]
  },
  {
   "cell_type": "code",
   "execution_count": 5,
   "metadata": {},
   "outputs": [],
   "source": [
    "trainset['dataset'] = 'train'\n",
    "testset['dataset'] = 'test'"
   ]
  },
  {
   "cell_type": "code",
   "execution_count": 6,
   "metadata": {},
   "outputs": [],
   "source": [
    "trainset.drop(columns = ['Unnamed: 0'], inplace = True) #  limpa coluna indice\n",
    "testset.drop(columns = ['Unnamed: 0'], inplace = True) #  limpa coluna indice"
   ]
  },
  {
   "cell_type": "code",
   "execution_count": 7,
   "metadata": {},
   "outputs": [],
   "source": [
    "data = pd.concat([trainset, testset], axis = 0)"
   ]
  },
  {
   "cell_type": "markdown",
   "metadata": {},
   "source": [
    "**Alvo**: Event Clearance Description"
   ]
  },
  {
   "cell_type": "code",
   "execution_count": 8,
   "metadata": {},
   "outputs": [],
   "source": [
    "target_encoder = LabelEncoder()\n",
    "target_encoder.fit(data['Event Clearance Description'])\n",
    "\n",
    "data['target'] = target_encoder.transform(data['Event Clearance Description'])"
   ]
  },
  {
   "cell_type": "code",
   "execution_count": 9,
   "metadata": {},
   "outputs": [],
   "source": [
    "#y = data['Event Clearance Description'] #  Pega variável alvo"
   ]
  },
  {
   "cell_type": "markdown",
   "metadata": {},
   "source": [
    "### 1.1 Como está o balanceamento das Classes?"
   ]
  },
  {
   "cell_type": "code",
   "execution_count": 10,
   "metadata": {},
   "outputs": [],
   "source": [
    "proportion = pd.DataFrame(data['Event Clearance Description'].value_counts()/data.shape[0] * 100)\\\n",
    "                                                             .reset_index()\\\n",
    "                                                             .rename(columns = {'index': 'Event', 'Event Clearance Description': 'Percentage'})"
   ]
  },
  {
   "cell_type": "code",
   "execution_count": 11,
   "metadata": {},
   "outputs": [
    {
     "data": {
      "image/png": "[encoded data removed]",
      "text/plain": [
       "<Figure size 1008x432 with 1 Axes>"
      ]
     },
     "metadata": {},
     "output_type": "display_data"
    }
   ],
   "source": [
    "g = sns.barplot(y = 'Event', x = 'Percentage', data = proportion, ax = plt.subplots(figsize = (14, 6))[1])\n",
    "g.set_title('Event Description - Balance', fontsize = 17)\n",
    "\n",
    "for i, perct in enumerate(proportion['Percentage'].values):\n",
    "    g.text(perct - 3, i, str(round(perct, 2)) + '%', fontsize = 12)"
   ]
  },
  {
   "cell_type": "code",
   "execution_count": 12,
   "metadata": {},
   "outputs": [],
   "source": [
    "data.drop(columns = ['Event Clearance Description'], inplace = True)"
   ]
  },
  {
   "cell_type": "markdown",
   "metadata": {},
   "source": [
    "### 2. Realize o EDA que você julgar necessário (análise exploratória dos dados), o objetivo do EDA é mostrar alguns insights sobre os dados (1,0 pontos)"
   ]
  },
  {
   "cell_type": "markdown",
   "metadata": {},
   "source": [
    "#### 2.1 Check missing data"
   ]
  },
  {
   "cell_type": "code",
   "execution_count": 13,
   "metadata": {},
   "outputs": [
    {
     "data": {
      "image/png": "[encoded data removed]",
      "text/plain": [
       "<Figure size 1152x360 with 1 Axes>"
      ]
     },
     "metadata": {},
     "output_type": "display_data"
    }
   ],
   "source": [
    "features = (data.isnull().sum()/data.shape[0] * 100).index.tolist()\n",
    "\n",
    "plt.figure(figsize = (16, 5))\n",
    "plt.bar(features, data.isnull().sum()/data.shape[0] * 100, label = 'Missing')\n",
    "plt.xticks(features, fontsize=9, rotation=30)\n",
    "plt.legend()\n",
    "plt.title('Percentage of Missing Data', fontsize = 16)\n",
    "\n",
    "for i, value in enumerate(data.isnull().sum()/data.shape[0] * 100):\n",
    "    if value > 0:\n",
    "        plt.text(i - 0.15, value - 0.3, f'{str(round(value, 2))}%', fontsize = '11')\n"
   ]
  },
  {
   "cell_type": "markdown",
   "metadata": {},
   "source": [
    "#### 2.2 EDA in Categorical Features"
   ]
  },
  {
   "cell_type": "code",
   "execution_count": 14,
   "metadata": {},
   "outputs": [
    {
     "name": "stdout",
     "output_type": "stream",
     "text": [
      "<class 'pandas.core.frame.DataFrame'>\n",
      "Int64Index: 116997 entries, 0 to 23094\n",
      "Data columns (total 12 columns):\n",
      "CAD Event Number        116997 non-null int64\n",
      "Call Type               116997 non-null object\n",
      "Priority                116997 non-null int64\n",
      "Initial Call Type       116997 non-null object\n",
      "Final Call Type         116997 non-null object\n",
      "Original Time Queued    116997 non-null object\n",
      "Arrived Time            116997 non-null object\n",
      "Precinct                116997 non-null object\n",
      "Sector                  116281 non-null object\n",
      "Beat                    116997 non-null object\n",
      "dataset                 116997 non-null object\n",
      "target                  116997 non-null int32\n",
      "dtypes: int32(1), int64(2), object(9)\n",
      "memory usage: 11.2+ MB\n"
     ]
    }
   ],
   "source": [
    "data.info()"
   ]
  },
  {
   "cell_type": "code",
   "execution_count": 15,
   "metadata": {},
   "outputs": [],
   "source": [
    "data['Initial Call Type'] = data['Initial Call Type'].apply(lambda x: x.replace('-', '').replace(',', '').replace('.', '').replace('(', '').replace(')', '').replace('  ', ' '))\n",
    "data['Final Call Type'] = data['Final Call Type'].apply(lambda x: x.replace('-', '').replace(',', '').replace('.', '').replace('(', '').replace(')', '').replace('  ', ' '))"
   ]
  },
  {
   "cell_type": "code",
   "execution_count": 16,
   "metadata": {},
   "outputs": [],
   "source": [
    "#pd.DataFrame((data['Initial Call Type'].value_counts()/data['Initial Call Type'].shape[0] * 100))"
   ]
  },
  {
   "cell_type": "code",
   "execution_count": 17,
   "metadata": {},
   "outputs": [],
   "source": [
    "initial = pd.DataFrame((data['Initial Call Type'].value_counts()/data['Initial Call Type'].shape[0] * 100) < 0.5).reset_index()\n",
    "other = initial[initial['Initial Call Type'] == True]['index'].values\n",
    "index_ = data[data['Initial Call Type'].isin(other)].index\n",
    "data.loc[index_, 'Initial Call Type'] = 'OTHER'"
   ]
  },
  {
   "cell_type": "code",
   "execution_count": 18,
   "metadata": {},
   "outputs": [],
   "source": [
    "final = pd.DataFrame((data['Final Call Type'].value_counts()/data['Final Call Type'].shape[0] * 100) < 0.5).reset_index()\n",
    "other = final[final['Final Call Type'] == True]['index'].values\n",
    "index_ = data[data['Final Call Type'].isin(other)].index\n",
    "data.loc[index_, 'Final Call Type'] = 'OTHER'"
   ]
  },
  {
   "cell_type": "code",
   "execution_count": 19,
   "metadata": {},
   "outputs": [],
   "source": [
    "# auxiliar features to extract the intersect labels between initial and first\n",
    "data['initial_list'] = data['Initial Call Type'].apply(lambda x: x.split())\n",
    "data['final_list'] = data['Final Call Type'].apply(lambda x: x.split())"
   ]
  },
  {
   "cell_type": "code",
   "execution_count": 20,
   "metadata": {},
   "outputs": [],
   "source": [
    "def rate_intersect_list(initial, final):\n",
    "    intersect = np.intersect1d(initial, final)\n",
    "    return intersect.shape[0]/np.union1d(initial, final).shape[0] * 100"
   ]
  },
  {
   "cell_type": "code",
   "execution_count": 21,
   "metadata": {},
   "outputs": [],
   "source": [
    "data['initial_isEqual_final'] = data[['initial_list', 'final_list']].apply(lambda values: rate_intersect_list(*values), axis = 1)"
   ]
  },
  {
   "cell_type": "code",
   "execution_count": 22,
   "metadata": {},
   "outputs": [],
   "source": [
    "data.drop(columns = ['initial_list', 'final_list'], inplace = True)"
   ]
  },
  {
   "cell_type": "code",
   "execution_count": 23,
   "metadata": {},
   "outputs": [],
   "source": [
    "#data.drop(columns = ['Initial Call Type', 'Final Call Type'], inplace = True)"
   ]
  },
  {
   "cell_type": "markdown",
   "metadata": {},
   "source": [
    "##### Call Type"
   ]
  },
  {
   "cell_type": "code",
   "execution_count": 24,
   "metadata": {},
   "outputs": [],
   "source": [
    "aux = pd.DataFrame((data['Call Type'].value_counts()/data.shape[0] * 100) < 10).reset_index()\n",
    "other = aux[aux['Call Type'] == True]['index'].values\n",
    "index_ = data[data['Call Type'].isin(other)].index\n",
    "data.loc[index_, 'Call Type'] = 'OTHER'"
   ]
  },
  {
   "cell_type": "code",
   "execution_count": 25,
   "metadata": {},
   "outputs": [
    {
     "data": {
      "text/plain": [
       "<matplotlib.axes._subplots.AxesSubplot at 0x26b4e282eb8>"
      ]
     },
     "execution_count": 25,
     "metadata": {},
     "output_type": "execute_result"
    },
    {
     "data": {
      "image/png": "[encoded data removed]",
      "text/plain": [
       "<Figure size 864x432 with 1 Axes>"
      ]
     },
     "metadata": {},
     "output_type": "display_data"
    }
   ],
   "source": [
    "sns.countplot(y = data['Call Type'], ax = plt.subplots(figsize = (12, 6))[1])"
   ]
  },
  {
   "cell_type": "markdown",
   "metadata": {},
   "source": [
    "##### Priority and Sector"
   ]
  },
  {
   "cell_type": "code",
   "execution_count": 26,
   "metadata": {},
   "outputs": [
    {
     "data": {
      "text/plain": [
       "<matplotlib.axes._subplots.AxesSubplot at 0x26b577b5b00>"
      ]
     },
     "execution_count": 26,
     "metadata": {},
     "output_type": "execute_result"
    },
    {
     "data": {
      "image/png": "[encoded data removed]",
      "text/plain": [
       "<Figure size 1152x360 with 2 Axes>"
      ]
     },
     "metadata": {},
     "output_type": "display_data"
    }
   ],
   "source": [
    "fig, ax = plt.subplots(ncols = 2, figsize = (16, 5))\n",
    "sns.countplot(y = 'Priority', ax = ax[0], data = data)\n",
    "sns.countplot(y = 'Sector', ax = ax[1], data = data)\n",
    "#g.text()"
   ]
  },
  {
   "cell_type": "code",
   "execution_count": 27,
   "metadata": {},
   "outputs": [],
   "source": [
    "data['Priority'] = data['Priority'].astype('object')"
   ]
  },
  {
   "cell_type": "code",
   "execution_count": 28,
   "metadata": {},
   "outputs": [],
   "source": [
    "index_ = data[data['Priority'].isin(['8', '9'])].index\n",
    "data.loc[index_, 'Priority'] = data['Priority'].mode().values[0]"
   ]
  },
  {
   "cell_type": "markdown",
   "metadata": {},
   "source": [
    "##### Precint"
   ]
  },
  {
   "cell_type": "code",
   "execution_count": 29,
   "metadata": {},
   "outputs": [],
   "source": [
    "precint = pd.DataFrame(round(data['Precinct'].value_counts()/data.shape[0] * 100, 2))"
   ]
  },
  {
   "cell_type": "code",
   "execution_count": 30,
   "metadata": {},
   "outputs": [
    {
     "data": {
      "text/plain": [
       "Text(0.5,1,'Precint - Pizza')"
      ]
     },
     "execution_count": 30,
     "metadata": {},
     "output_type": "execute_result"
    },
    {
     "data": {
      "image/png": "[encoded data removed]",
      "text/plain": [
       "<Figure size 720x720 with 1 Axes>"
      ]
     },
     "metadata": {},
     "output_type": "display_data"
    }
   ],
   "source": [
    "p = precint.plot.pie(y ='Precinct', startangle = 10, ax = plt.subplots(figsize = (10, 10))[1], fontsize = 12, shadow = True)\n",
    "p.set_title('Precint - Pizza', fontsize = 16)"
   ]
  },
  {
   "cell_type": "markdown",
   "metadata": {},
   "source": [
    "##### Beat"
   ]
  },
  {
   "cell_type": "code",
   "execution_count": 31,
   "metadata": {},
   "outputs": [
    {
     "name": "stdout",
     "output_type": "stream",
     "text": [
      "There are 82 categories in feature Beat\n"
     ]
    }
   ],
   "source": [
    "print(f\"There are {data['Beat'].nunique()} categories in feature Beat\")"
   ]
  },
  {
   "cell_type": "code",
   "execution_count": 32,
   "metadata": {},
   "outputs": [],
   "source": [
    "beat = pd.DataFrame((data['Beat'].value_counts()/data.shape[0] * 100)).reset_index()\n",
    "other = beat[beat['Beat'] < 0.5]['index'].values"
   ]
  },
  {
   "cell_type": "code",
   "execution_count": 33,
   "metadata": {},
   "outputs": [],
   "source": [
    "index_ = data[data['Beat'].isin(other)].index\n",
    "data.loc[index_, 'Beat'] = 'OTHER'"
   ]
  },
  {
   "cell_type": "code",
   "execution_count": 34,
   "metadata": {},
   "outputs": [
    {
     "data": {
      "image/png": "[encoded data removed]",
      "text/plain": [
       "<Figure size 1080x648 with 1 Axes>"
      ]
     },
     "metadata": {},
     "output_type": "display_data"
    }
   ],
   "source": [
    "beat = pd.DataFrame((data['Beat'].value_counts()/data.shape[0] * 100)).reset_index()\n",
    "g = sns.barplot(y = 'index', x = 'Beat', data = beat, ax = plt.subplots(figsize = (15, 9))[1])"
   ]
  },
  {
   "cell_type": "markdown",
   "metadata": {},
   "source": [
    "## 3. Realize o tratamento que você julgar mais adequado aos dados. (2,0 pontos)"
   ]
  },
  {
   "cell_type": "markdown",
   "metadata": {},
   "source": [
    "**Explique, com suas palavras, porque o processo de feature engineering é necessário**: \n",
    "\n",
    "> A utilização do feature engineering possibilita utilizarmos o conhecimento que temos dos dados, para criarmos recursos que irão facilitar e tornar mais eficiente, o nosso algoritmo. Nesse caso em específico, podemos citar a extração do horário nas colunas original time queued e arrived time e em seguida a subtração entre elas, pois observamos que a informações dos horários são bem mais relevantes ao entendimento do modelo."
   ]
  },
  {
   "cell_type": "markdown",
   "metadata": {},
   "source": [
    "### 3.1 Transformar as colunas com informações de data e hora."
   ]
  },
  {
   "cell_type": "code",
   "execution_count": 35,
   "metadata": {},
   "outputs": [],
   "source": [
    "import datetime"
   ]
  },
  {
   "cell_type": "code",
   "execution_count": 36,
   "metadata": {},
   "outputs": [],
   "source": [
    "def month_number(month):\n",
    "    return ['Jan', 'Feb', 'Mar', 'Apr', 'May', 'Jun', 'Jul', 'Aug', 'Sep', 'Oct', 'Nov', 'Dec'].index(month) + 1\n",
    "\n",
    "def process_date(arrived_date):\n",
    "    time = None\n",
    "    try:\n",
    "        month, _, day, year, time = arrived_date.split(' ')\n",
    "    except:\n",
    "        month, day, year, time = arrived_date.split(' ')\n",
    "    hour, minutes, sec = time.split(':')[:-1]\n",
    "    return datetime.datetime(int(year), month_number(month), int(day), int(hour), int(minutes), int(sec))"
   ]
  },
  {
   "cell_type": "markdown",
   "metadata": {},
   "source": [
    "`duration_time`: difference, in minutes, between `original time queued` and `arrived time`"
   ]
  },
  {
   "cell_type": "code",
   "execution_count": 37,
   "metadata": {},
   "outputs": [],
   "source": [
    "data['Arrived Time'] = data['Arrived Time'].apply(lambda x: process_date(x))\n",
    "data['Original Time Queued'] = pd.to_datetime(data['Original Time Queued'])\n",
    "data['duration_time'] = (data['Arrived Time'] - data['Original Time Queued']).apply(lambda time: time.total_seconds()/60)"
   ]
  },
  {
   "cell_type": "markdown",
   "metadata": {},
   "source": [
    "#### 3.2 Creating a new feature to set the period of the day"
   ]
  },
  {
   "cell_type": "code",
   "execution_count": 38,
   "metadata": {},
   "outputs": [],
   "source": [
    "def get_part_of_day(queued_date):\n",
    "    hour = queued_date.hour\n",
    "    return (\n",
    "        \"morning\" if 5 <= hour <= 11\n",
    "        else\n",
    "        \"afternoon\" if 12 <= hour <= 17\n",
    "        else\n",
    "        \"evening\" if 18 <= hour <= 22\n",
    "        else\n",
    "        \"night\"\n",
    ")"
   ]
  },
  {
   "cell_type": "code",
   "execution_count": 39,
   "metadata": {},
   "outputs": [],
   "source": [
    "data['Day_Period'] = data['Original Time Queued'].apply(lambda daytime: get_part_of_day(daytime))"
   ]
  },
  {
   "cell_type": "markdown",
   "metadata": {},
   "source": [
    "#### Dropping some unusal features"
   ]
  },
  {
   "cell_type": "code",
   "execution_count": 40,
   "metadata": {},
   "outputs": [],
   "source": [
    "delete_columns = ['CAD Event Number', 'Original Time Queued', 'Arrived Time']\n",
    "data.drop(columns = delete_columns, inplace = True)"
   ]
  },
  {
   "cell_type": "markdown",
   "metadata": {},
   "source": [
    "#### 3.3 Setting to zero the negative duration"
   ]
  },
  {
   "cell_type": "code",
   "execution_count": 41,
   "metadata": {},
   "outputs": [],
   "source": [
    "index_ = data[data['duration_time'] < 0].index\n",
    "data.loc[index_, 'duration_time'] = 0"
   ]
  },
  {
   "cell_type": "code",
   "execution_count": 42,
   "metadata": {},
   "outputs": [],
   "source": [
    "data['duration_time'] = MinMaxScaler().fit_transform(data[['duration_time']])"
   ]
  },
  {
   "cell_type": "markdown",
   "metadata": {},
   "source": [
    "#### 3. Creating Dummy Features and Scaling"
   ]
  },
  {
   "cell_type": "code",
   "execution_count": 43,
   "metadata": {},
   "outputs": [
    {
     "name": "stdout",
     "output_type": "stream",
     "text": [
      "<class 'pandas.core.frame.DataFrame'>\n",
      "Int64Index: 116997 entries, 0 to 23094\n",
      "Data columns (total 12 columns):\n",
      "Call Type                116997 non-null object\n",
      "Priority                 116997 non-null int64\n",
      "Initial Call Type        116997 non-null object\n",
      "Final Call Type          116997 non-null object\n",
      "Precinct                 116997 non-null object\n",
      "Sector                   116281 non-null object\n",
      "Beat                     116997 non-null object\n",
      "dataset                  116997 non-null object\n",
      "target                   116997 non-null int32\n",
      "initial_isEqual_final    116997 non-null float64\n",
      "duration_time            116997 non-null float64\n",
      "Day_Period               116997 non-null object\n",
      "dtypes: float64(2), int32(1), int64(1), object(8)\n",
      "memory usage: 13.7+ MB\n"
     ]
    }
   ],
   "source": [
    "data.info()"
   ]
  },
  {
   "cell_type": "markdown",
   "metadata": {},
   "source": [
    "##### Get the categorical and numerical features"
   ]
  },
  {
   "cell_type": "code",
   "execution_count": 44,
   "metadata": {},
   "outputs": [],
   "source": [
    "numeric_features = data.select_dtypes(include = ['int64', 'float64']).columns\n",
    "categorical_features = data.select_dtypes(include=['object']).drop(['dataset'], axis=1).columns"
   ]
  },
  {
   "cell_type": "code",
   "execution_count": 45,
   "metadata": {},
   "outputs": [],
   "source": [
    "data[categorical_features] = data[categorical_features].astype('category')"
   ]
  },
  {
   "cell_type": "markdown",
   "metadata": {},
   "source": [
    "### 4. Selecione duas soluções candidatas e justifique suas escolhas. Mostre os pontos negativos e positivos de cada modelo. (2,0 pontos)"
   ]
  },
  {
   "cell_type": "markdown",
   "metadata": {},
   "source": [
    "* *Support Vector Machine*:\n",
    "> ***Pontos Positivos***: \n",
    "              * Boa capacidade de generalização; \n",
    "              * Robusta diante de dados de grande dimensão, sobre os quais outras técnicas de aprendizado normalmente obtêm classificadores super ou sub ajustados; \n",
    "              * O processo de classificação é rápido; \n",
    "              * Convexidade do problema de otimização formulado em seu treinamento, que implica na existência de um único mínimo global.\n",
    "> ***Pontos negativos***: \n",
    "              * É necessário definir um bom Kernel; \n",
    "              * A sensibilidade a escolhas de valores de parâmetros e a dificuldade de interpretação do modelo gerado; \n",
    "              * O tempo de treinamento pode ser bem longo dependendo do número de exemplos e dimensionalidade dos dados.\n",
    "\n",
    "* *Random Forest*: Devido os dados serem categóricos, seria interessante criar um modelo baseado em árvore.\n",
    "> ***Pontos positivos***: \n",
    "              * Alta velocidade de aprendizagem;\n",
    "              * Aprendizado não iterativo — o algoritmo é concluído em um número fixo de operações;\n",
    "              * Escalabilidade - capacidade de lidar com grandes quantidades de dados;\n",
    "              * Alta qualidade dos modelos obtidos;\n",
    "              * Baixa sensibilidade aos picos nos dados devido a amostragem aleatória;  \n",
    "              * Poucos parâmetros configuráveis, e que não exigem tantos cuidados;\n",
    "              * Sem sensibilidade ao dimensionamento dos valores das características e a qualquer transformação monótona em geral, devido à seleção de subespaços aleatórios;\n",
    "              * Funciona bem com dados ausentes — mantém uma boa precisão, mesmo que uma grande parte dos dados estejam ausentes;\n",
    "              * Avaliação interna da capacidade de generalização do modelo;\n",
    "              * Capacidade de trabalhar com dados brutos, sem pré-processamento.\n",
    "> ***Pontos negativos***: \n",
    "              * O modelo construído ocupa uma grande quantidade de memória. No entanto, como a quantidade de RAM nos computadores modernos é grande o suficiente, isso cada vez mais, deixa de ser um problema;\n",
    "              * Um modelo treinado funciona um pouco mais lento do que outros algoritmos, devido a iteração em todas as árvores. Assim como o item anterior, o aumento do recurso das máquinas faz com que esse problema sema minimizado;\n",
    "              * O algoritmo funciona pior do que a maioria dos métodos lineares quando um conjunto tem muitas características esparsas (textos, bag de palavras) ou quando os objetos a serem classificados podem ser separados linearmente;\n",
    "              * O algoritmo é propenso a overfitting, especialmente em tarefas com muito ruído. Parte deste problema pode ser resolvido ajustando o parâmetro r;\n",
    "              * Para dados que incluem variáveis ​​categóricas com um número diferente de níveis, as florestas aleatórias são inclinadas em favor de características com mais níveis. Uma árvore será mais fortemente ajustada a tais características, pois elas permitem receber um valor maior de funcionalidade otimizada (tipo de ganho de informação).\n",
    "              * O algoritmo é absolutamente incapaz de extrapolação, mas isso podeser considerado uma vantagem, já que não haverá valores extremos no caso de um pico."
   ]
  },
  {
   "cell_type": "markdown",
   "metadata": {},
   "source": [
    "### 5. Construa os modelos de aprendizagem de máquina para cada modelo (2,0 ponto)"
   ]
  },
  {
   "cell_type": "markdown",
   "metadata": {},
   "source": [
    "**OBS**: sklearn version 0.21.1"
   ]
  },
  {
   "cell_type": "code",
   "execution_count": 46,
   "metadata": {},
   "outputs": [],
   "source": [
    "from sklearn.preprocessing import OrdinalEncoder, OneHotEncoder\n",
    "from sklearn.model_selection import train_test_split\n",
    "from sklearn.ensemble import RandomForestClassifier\n",
    "from sklearn.naive_bayes import MultinomialNB, ComplementNB\n",
    "from sklearn.compose import ColumnTransformer\n",
    "from sklearn.impute import SimpleImputer\n",
    "from sklearn.svm import SVC"
   ]
  },
  {
   "cell_type": "code",
   "execution_count": 47,
   "metadata": {},
   "outputs": [],
   "source": [
    "from scipy.stats import chi2_contingency"
   ]
  },
  {
   "cell_type": "markdown",
   "metadata": {},
   "source": [
    "Does some column have statistical significancy ? If not, I will drop it! xD"
   ]
  },
  {
   "cell_type": "code",
   "execution_count": 48,
   "metadata": {},
   "outputs": [
    {
     "name": "stdout",
     "output_type": "stream",
     "text": [
      "Alpha in Call Type: 0.0\n",
      "Alpha in Priority: 0.0\n",
      "Alpha in Initial Call Type: 0.0\n",
      "Alpha in Final Call Type: 0.0\n",
      "Alpha in Precinct: 0.0\n",
      "Alpha in Sector: 0.0\n",
      "Alpha in Beat: 0.0\n",
      "Alpha in target: 0.0\n",
      "Alpha in initial_isEqual_final: 0.0\n",
      "Alpha in duration_time: 0.0\n",
      "Alpha in Day_Period: 0.0\n"
     ]
    }
   ],
   "source": [
    "for col in data.columns:\n",
    "    if col != 'dataset':\n",
    "        _, alpha, _, _ = chi2_contingency(pd.crosstab(data['Beat'], data['target']))\n",
    "        print(f\"Alpha in {col}: {alpha}\")"
   ]
  },
  {
   "cell_type": "markdown",
   "metadata": {},
   "source": [
    "#### 5.1 Pipelines:"
   ]
  },
  {
   "cell_type": "code",
   "execution_count": 49,
   "metadata": {},
   "outputs": [],
   "source": [
    "numeric_transformer = Pipeline(steps=[('scaler', MinMaxScaler() )])\n",
    "categorical_transformer = Pipeline(steps=[('imputer',SimpleImputer(strategy='constant', fill_value='missing')),\n",
    "                                          ('dummy_encoder', OrdinalEncoder()),\n",
    "                                          ('dummy_features', OneHotEncoder( handle_unknown = 'ignore'\n",
    "                                                                            #drop = 'first'\n",
    "                                                                          )\n",
    "                                              )\n",
    "                                         ]\n",
    "                                    )\n",
    "\n",
    "preprocessor = ColumnTransformer(transformers=[('num', numeric_transformer, numeric_features),\n",
    "                                              ('cat', categorical_transformer, categorical_features)])\n",
    "naive_bayes = Pipeline(steps=[('preprocessor',preprocessor),\n",
    "                         ('classifier',MultinomialNB())])\n",
    "\n",
    "random_forest = Pipeline(steps=[('preprocessor',preprocessor),\n",
    "                         ('classifier',RandomForestClassifier())])"
   ]
  },
  {
   "cell_type": "code",
   "execution_count": 50,
   "metadata": {},
   "outputs": [],
   "source": [
    "# resetting the train and test dataset\n",
    "trainset = data[data['dataset'] == 'train'].copy()\n",
    "testset  = data[data['dataset'] == 'test'].copy()\n",
    "\n",
    "trainset.drop(columns=['dataset'], inplace=True)\n",
    "testset.drop(columns=['dataset'], inplace=True)"
   ]
  },
  {
   "cell_type": "code",
   "execution_count": 51,
   "metadata": {},
   "outputs": [],
   "source": [
    "# set X and y data\n",
    "X, y = trainset[trainset.columns.difference(['target'])], trainset['target'],"
   ]
  },
  {
   "cell_type": "code",
   "execution_count": 52,
   "metadata": {},
   "outputs": [],
   "source": [
    "X_train, X_val, y_train, y_val = train_test_split(X, y, test_size = 0.3, stratify = trainset['target'], random_state = 100)"
   ]
  },
  {
   "cell_type": "markdown",
   "metadata": {},
   "source": [
    "##### Naive Bayes"
   ]
  },
  {
   "cell_type": "code",
   "execution_count": 53,
   "metadata": {},
   "outputs": [
    {
     "data": {
      "text/plain": [
       "Pipeline(memory=None,\n",
       "         steps=[('preprocessor',\n",
       "                 ColumnTransformer(n_jobs=None, remainder='drop',\n",
       "                                   sparse_threshold=0.3,\n",
       "                                   transformer_weights=None,\n",
       "                                   transformers=[('num',\n",
       "                                                  Pipeline(memory=None,\n",
       "                                                           steps=[('scaler',\n",
       "                                                                   MinMaxScaler(copy=True,\n",
       "                                                                                feature_range=(0,\n",
       "                                                                                               1)))],\n",
       "                                                           verbose=False),\n",
       "                                                  Index(['Priority', 'initial_isEqual_final', 'duration_time'], dtype='object')),\n",
       "                                                 ('cat',\n",
       "                                                  Pipeline(m...\n",
       "                                                                   OneHotEncoder(categorical_features=None,\n",
       "                                                                                 categories=None,\n",
       "                                                                                 drop=None,\n",
       "                                                                                 dtype=<class 'numpy.float64'>,\n",
       "                                                                                 handle_unknown='ignore',\n",
       "                                                                                 n_values=None,\n",
       "                                                                                 sparse=True))],\n",
       "                                                           verbose=False),\n",
       "                                                  Index(['Call Type', 'Initial Call Type', 'Final Call Type', 'Precinct',\n",
       "       'Sector', 'Beat', 'Day_Period'],\n",
       "      dtype='object'))],\n",
       "                                   verbose=False)),\n",
       "                ('classifier',\n",
       "                 MultinomialNB(alpha=1.0, class_prior=None, fit_prior=True))],\n",
       "         verbose=False)"
      ]
     },
     "execution_count": 53,
     "metadata": {},
     "output_type": "execute_result"
    }
   ],
   "source": [
    "naive_bayes.fit(X_train, y_train)"
   ]
  },
  {
   "cell_type": "code",
   "execution_count": 54,
   "metadata": {},
   "outputs": [
    {
     "name": "stdout",
     "output_type": "stream",
     "text": [
      "Naive Bayes score:  0.7269532497958894\n"
     ]
    }
   ],
   "source": [
    "print(\"Naive Bayes score: \", naive_bayes.score(X_val, y_val))"
   ]
  },
  {
   "cell_type": "markdown",
   "metadata": {},
   "source": [
    "##### Random Forest"
   ]
  },
  {
   "cell_type": "code",
   "execution_count": 55,
   "metadata": {},
   "outputs": [
    {
     "name": "stderr",
     "output_type": "stream",
     "text": [
      "C:\\Users\\igor_sousa\\AppData\\Local\\Continuum\\anaconda3\\lib\\site-packages\\sklearn\\ensemble\\forest.py:245: FutureWarning: The default value of n_estimators will change from 10 in version 0.20 to 100 in 0.22.\n",
      "  \"10 in version 0.20 to 100 in 0.22.\", FutureWarning)\n"
     ]
    },
    {
     "data": {
      "text/plain": [
       "Pipeline(memory=None,\n",
       "         steps=[('preprocessor',\n",
       "                 ColumnTransformer(n_jobs=None, remainder='drop',\n",
       "                                   sparse_threshold=0.3,\n",
       "                                   transformer_weights=None,\n",
       "                                   transformers=[('num',\n",
       "                                                  Pipeline(memory=None,\n",
       "                                                           steps=[('scaler',\n",
       "                                                                   MinMaxScaler(copy=True,\n",
       "                                                                                feature_range=(0,\n",
       "                                                                                               1)))],\n",
       "                                                           verbose=False),\n",
       "                                                  Index(['Priority', 'initial_isEqual_final', 'duration_time'], dtype='object')),\n",
       "                                                 ('cat',\n",
       "                                                  Pipeline(m...\n",
       "                 RandomForestClassifier(bootstrap=True, class_weight=None,\n",
       "                                        criterion='gini', max_depth=None,\n",
       "                                        max_features='auto',\n",
       "                                        max_leaf_nodes=None,\n",
       "                                        min_impurity_decrease=0.0,\n",
       "                                        min_impurity_split=None,\n",
       "                                        min_samples_leaf=1, min_samples_split=2,\n",
       "                                        min_weight_fraction_leaf=0.0,\n",
       "                                        n_estimators=10, n_jobs=None,\n",
       "                                        oob_score=False, random_state=None,\n",
       "                                        verbose=0, warm_start=False))],\n",
       "         verbose=False)"
      ]
     },
     "execution_count": 55,
     "metadata": {},
     "output_type": "execute_result"
    }
   ],
   "source": [
    "random_forest.fit(X_train, y_train)"
   ]
  },
  {
   "cell_type": "code",
   "execution_count": 56,
   "metadata": {},
   "outputs": [
    {
     "name": "stdout",
     "output_type": "stream",
     "text": [
      "Random Forest score:  0.7313904369741934\n"
     ]
    }
   ],
   "source": [
    "print(\"Random Forest score: \", random_forest.score(X_val, y_val))"
   ]
  },
  {
   "cell_type": "markdown",
   "metadata": {},
   "source": [
    "### 6. Para cada modelo aplique uma combinação aos hiperparâmetros com o GridSearch e aplique também o CrossValidation"
   ]
  },
  {
   "cell_type": "code",
   "execution_count": 57,
   "metadata": {},
   "outputs": [],
   "source": [
    "from sklearn.model_selection import StratifiedKFold\n",
    "from sklearn.model_selection import GridSearchCV"
   ]
  },
  {
   "cell_type": "code",
   "execution_count": 58,
   "metadata": {},
   "outputs": [],
   "source": [
    "stratify_fold = StratifiedKFold(n_splits = 5, shuffle = True)"
   ]
  },
  {
   "cell_type": "code",
   "execution_count": 59,
   "metadata": {},
   "outputs": [],
   "source": [
    "naive_params = {\n",
    "    #'classifier__alpha ': [1.0],\n",
    "    'classifier__fit_prior': [True, False]\n",
    "}\n",
    "\n",
    "random_forest_params = {\n",
    "    'classifier__n_estimators': [50, 100],\n",
    "    'classifier__max_depth': np.arange(5, 50, 10),\n",
    "    'classifier__n_jobs': [-1],\n",
    "    'classifier__oob_score': [True],\n",
    "    'classifier__class_weight': ['balanced_subsample']\n",
    "}"
   ]
  },
  {
   "cell_type": "markdown",
   "metadata": {},
   "source": [
    "### 7. Defina uma métrica de avaliação e avalie as soluções candidatas. Justifique a escolha da sua métrica. (1,0 ponto)"
   ]
  },
  {
   "cell_type": "markdown",
   "metadata": {},
   "source": [
    "Métrica: `accuracy`\n",
    "> Explicar o motivo..."
   ]
  },
  {
   "cell_type": "markdown",
   "metadata": {},
   "source": [
    "##### Naive Bayes - GridSearch "
   ]
  },
  {
   "cell_type": "code",
   "execution_count": 60,
   "metadata": {},
   "outputs": [],
   "source": [
    "naive_grid = GridSearchCV(naive_bayes, naive_params, cv = stratify_fold, n_jobs = -1, verbose = 0, scoring = 'accuracy')"
   ]
  },
  {
   "cell_type": "code",
   "execution_count": 61,
   "metadata": {},
   "outputs": [
    {
     "data": {
      "text/plain": [
       "GridSearchCV(cv=StratifiedKFold(n_splits=5, random_state=None, shuffle=True),\n",
       "             error_score='raise-deprecating',\n",
       "             estimator=Pipeline(memory=None,\n",
       "                                steps=[('preprocessor',\n",
       "                                        ColumnTransformer(n_jobs=None,\n",
       "                                                          remainder='drop',\n",
       "                                                          sparse_threshold=0.3,\n",
       "                                                          transformer_weights=None,\n",
       "                                                          transformers=[('num',\n",
       "                                                                         Pipeline(memory=None,\n",
       "                                                                                  steps=[('scaler',\n",
       "                                                                                          MinMaxScaler(copy=True,\n",
       "                                                                                                       feature_range=...\n",
       "                                                                         Index(['Call Type', 'Initial Call Type', 'Final Call Type', 'Precinct',\n",
       "       'Sector', 'Beat', 'Day_Period'],\n",
       "      dtype='object'))],\n",
       "                                                          verbose=False)),\n",
       "                                       ('classifier',\n",
       "                                        MultinomialNB(alpha=1.0,\n",
       "                                                      class_prior=None,\n",
       "                                                      fit_prior=True))],\n",
       "                                verbose=False),\n",
       "             iid='warn', n_jobs=-1,\n",
       "             param_grid={'classifier__fit_prior': [True, False]},\n",
       "             pre_dispatch='2*n_jobs', refit=True, return_train_score=False,\n",
       "             scoring='accuracy', verbose=0)"
      ]
     },
     "execution_count": 61,
     "metadata": {},
     "output_type": "execute_result"
    }
   ],
   "source": [
    "naive_grid.fit(X_train, y_train)"
   ]
  },
  {
   "cell_type": "code",
   "execution_count": 62,
   "metadata": {},
   "outputs": [
    {
     "data": {
      "text/plain": [
       "0.7064018499642482"
      ]
     },
     "execution_count": 62,
     "metadata": {},
     "output_type": "execute_result"
    }
   ],
   "source": [
    "naive_grid.cv_results_['mean_test_score'].mean()"
   ]
  },
  {
   "cell_type": "markdown",
   "metadata": {},
   "source": [
    "##### Random Forest - GridSearch"
   ]
  },
  {
   "cell_type": "code",
   "execution_count": 63,
   "metadata": {},
   "outputs": [],
   "source": [
    "forest_grid = GridSearchCV(random_forest, random_forest_params, cv = stratify_fold, n_jobs = -1, verbose = 0)"
   ]
  },
  {
   "cell_type": "code",
   "execution_count": 64,
   "metadata": {},
   "outputs": [
    {
     "data": {
      "text/plain": [
       "GridSearchCV(cv=StratifiedKFold(n_splits=5, random_state=None, shuffle=True),\n",
       "             error_score='raise-deprecating',\n",
       "             estimator=Pipeline(memory=None,\n",
       "                                steps=[('preprocessor',\n",
       "                                        ColumnTransformer(n_jobs=None,\n",
       "                                                          remainder='drop',\n",
       "                                                          sparse_threshold=0.3,\n",
       "                                                          transformer_weights=None,\n",
       "                                                          transformers=[('num',\n",
       "                                                                         Pipeline(memory=None,\n",
       "                                                                                  steps=[('scaler',\n",
       "                                                                                          MinMaxScaler(copy=True,\n",
       "                                                                                                       feature_range=...\n",
       "                                                               verbose=0,\n",
       "                                                               warm_start=False))],\n",
       "                                verbose=False),\n",
       "             iid='warn', n_jobs=-1,\n",
       "             param_grid={'classifier__class_weight': ['balanced_subsample'],\n",
       "                         'classifier__max_depth': array([ 5, 15, 25, 35, 45]),\n",
       "                         'classifier__n_estimators': [50, 100],\n",
       "                         'classifier__n_jobs': [-1],\n",
       "                         'classifier__oob_score': [True]},\n",
       "             pre_dispatch='2*n_jobs', refit=True, return_train_score=False,\n",
       "             scoring=None, verbose=0)"
      ]
     },
     "execution_count": 64,
     "metadata": {},
     "output_type": "execute_result"
    }
   ],
   "source": [
    "forest_grid.fit(X_train, y_train)"
   ]
  },
  {
   "cell_type": "code",
   "execution_count": 65,
   "metadata": {},
   "outputs": [
    {
     "data": {
      "text/plain": [
       "0.7102919474829228"
      ]
     },
     "execution_count": 65,
     "metadata": {},
     "output_type": "execute_result"
    }
   ],
   "source": [
    "forest_grid.cv_results_['mean_test_score'].mean()"
   ]
  },
  {
   "cell_type": "markdown",
   "metadata": {},
   "source": [
    "### 8. Escolha um dos modelos, por exemplo o melhor modelo, e faça uma análise do overfitting e underfitting. Justique sua resposta com base em experimentos. (1,5 pontos)"
   ]
  },
  {
   "cell_type": "code",
   "execution_count": 66,
   "metadata": {},
   "outputs": [],
   "source": [
    "def plot_learning_curves(model, X, y):\n",
    "    X_train, X_val, y_train, y_val = train_test_split(X, y, test_size = 0.3, stratify = X[[\"Initial Call Type\", \"Final Call Type\"]], random_state = 10)\n",
    "    train_errors, val_errors = [], []\n",
    "    \n",
    "    for m in range(1, X_train.shape[0]):\n",
    "        model.fit(X_train[:m], y_train[:m])\n",
    "        y_train_predict = model.predict(X_train[:m])\n",
    "        y_val_predict   = model.predict(X_val)\n",
    "        train_errors.append(model.score(y_train_predict, y_train[:m]))\n",
    "        val_errors.append(model.score(y_val_predict, y_val))\n",
    "    \n",
    "    plt.plot(train_errors, \"r-+\", linewidth = 2, label = 'train')\n",
    "    plt.plot(val_errors, \"b-\", linewidth = 3, label = 'test')"
   ]
  },
  {
   "cell_type": "code",
   "execution_count": 67,
   "metadata": {},
   "outputs": [],
   "source": [
    "#plot_learning_curves(random_forest, X, y)"
   ]
  },
  {
   "cell_type": "code",
   "execution_count": 68,
   "metadata": {},
   "outputs": [
    {
     "data": {
      "text/plain": [
       "Pipeline(memory=None,\n",
       "         steps=[('preprocessor',\n",
       "                 ColumnTransformer(n_jobs=None, remainder='drop',\n",
       "                                   sparse_threshold=0.3,\n",
       "                                   transformer_weights=None,\n",
       "                                   transformers=[('num',\n",
       "                                                  Pipeline(memory=None,\n",
       "                                                           steps=[('scaler',\n",
       "                                                                   MinMaxScaler(copy=True,\n",
       "                                                                                feature_range=(0,\n",
       "                                                                                               1)))],\n",
       "                                                           verbose=False),\n",
       "                                                  Index(['Priority', 'initial_isEqual_final', 'duration_time'], dtype='object')),\n",
       "                                                 ('cat',\n",
       "                                                  Pipeline(m...\n",
       "                 RandomForestClassifier(bootstrap=True, class_weight=None,\n",
       "                                        criterion='gini', max_depth=None,\n",
       "                                        max_features='auto',\n",
       "                                        max_leaf_nodes=None,\n",
       "                                        min_impurity_decrease=0.0,\n",
       "                                        min_impurity_split=None,\n",
       "                                        min_samples_leaf=1, min_samples_split=2,\n",
       "                                        min_weight_fraction_leaf=0.0,\n",
       "                                        n_estimators=10, n_jobs=None,\n",
       "                                        oob_score=False, random_state=None,\n",
       "                                        verbose=0, warm_start=False))],\n",
       "         verbose=False)"
      ]
     },
     "execution_count": 68,
     "metadata": {},
     "output_type": "execute_result"
    }
   ],
   "source": [
    "random_forest.fit(X_train, y_train)"
   ]
  },
  {
   "cell_type": "markdown",
   "metadata": {},
   "source": [
    "### 9. Realize a predição sobre os dado test_call_data, como o seu modelo saiu? (1,0 ponto)"
   ]
  },
  {
   "cell_type": "code",
   "execution_count": 69,
   "metadata": {},
   "outputs": [],
   "source": [
    "# test data\n",
    "X_test = data[data['dataset'] == 'test']\n",
    "y_test = X_test['target'].astype('category')\n",
    "X_test = X_test.drop(columns=['target', 'dataset'], inplace=False)"
   ]
  },
  {
   "cell_type": "code",
   "execution_count": 70,
   "metadata": {},
   "outputs": [
    {
     "name": "stdout",
     "output_type": "stream",
     "text": [
      "Naive Bayes : 0.6729595150465468\n",
      "Random Forest : 0.6737822039402468\n"
     ]
    }
   ],
   "source": [
    "for model_name, model in zip(['Naive Bayes', 'Random Forest'], [naive_grid, forest_grid]):\n",
    "    print(model_name, ':', model.best_estimator_.score(X_test, y_test))"
   ]
  },
  {
   "cell_type": "markdown",
   "metadata": {},
   "source": [
    "### 10. Se seu modelo permitir analisar a importância das features, analise-o e tente justificar de forma subjetiva a importância da feature. Por exemplo, a feature_chamadas_a_noite possui um alto coeficiente, pois há uma tendência dos crimes acontecerem a noite, não tão simples assim :P. (1,0 ponto)"
   ]
  },
  {
   "cell_type": "code",
   "execution_count": null,
   "metadata": {},
   "outputs": [],
   "source": []
  },
  {
   "cell_type": "markdown",
   "metadata": {},
   "source": [
    "### 11. Aplique clusterização, preferencialmente o KMeans sobre o dado, e comunique suas novas descobertas, sinta-se a vontade para apresentar uma solução com recursos visuais (2,0 pontos)"
   ]
  },
  {
   "cell_type": "code",
   "execution_count": null,
   "metadata": {},
   "outputs": [],
   "source": []
  }
 ],
 "metadata": {
  "kernelspec": {
   "display_name": "Python 3",
   "language": "python",
   "name": "python3"
  },
  "language_info": {
   "codemirror_mode": {
    "name": "ipython",
    "version": 3
   },
   "file_extension": ".py",
   "mimetype": "text/x-python",
   "name": "python",
   "nbconvert_exporter": "python",
   "pygments_lexer": "ipython3",
   "version": "3.6.5"
  }
 },
 "nbformat": 4,
 "nbformat_minor": 2
}
